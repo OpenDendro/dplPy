{
 "cells": [
  {
   "cell_type": "markdown",
   "metadata": {},
   "source": [
    "# `dplPy` example using an entirely floating chronology"
   ]
  },
  {
   "cell_type": "code",
   "execution_count": 4,
   "metadata": {},
   "outputs": [],
   "source": [
    "import numpy as np\n",
    "import scipy as sp\n",
    "import pandas as pd\n",
    "import matplotlib as mpl\n",
    "import matplotlib.pyplot as plt\n",
    "\n",
    "# nicely render figures in the notebook \n",
    "%config InlineBackend.figure_format = 'retina'\n",
    "%matplotlib inline\n",
    "\n",
    "# you can omit the line below if you'd like, but I really don't like the default fonts in Python, so I switch to Helvetica\n",
    "plt.rcParams['font.family'] = 'Helvetica'\n"
   ]
  },
  {
   "cell_type": "code",
   "execution_count": 8,
   "metadata": {},
   "outputs": [
    {
     "name": "stdout",
     "output_type": "stream",
     "text": [
      "/Users/kja/projects/opendendro/dplPy/dplpy/__init__.py\n",
      "/Users/kja/projects/opendendro/dplPy/dplpy\n"
     ]
    }
   ],
   "source": [
    "# point the notebook toward the local development branch, not the pip installed version\n",
    "import sys\n",
    "sys.path.insert(0, '/Users/kja/projects/opendendro/dplPy')\n",
    "import dplpy\n",
    "\n",
    "# confirm we're working on my local testing\n",
    "print(dplpy.__file__)\n",
    "!pwd"
   ]
  },
  {
   "cell_type": "code",
   "execution_count": null,
   "metadata": {},
   "outputs": [],
   "source": [
    "df = dplpy.readers(\"/Users/kja/projects/opendendro/testing/wwr.rwl\")\n",
    "df.plot()"
   ]
  },
  {
   "cell_type": "code",
   "execution_count": null,
   "metadata": {},
   "outputs": [],
   "source": [
    "\n",
    "\n",
    "line = 'WWRst01a1060   946   687   748  1096  1862  2019  1708  1320   704   975'\n",
    "\n",
    "if line[7] != '-' and line[6] != '-':\n",
    "    series_id = line[:8]\n",
    "    iyr, *iy = [int(x) for x in (line[8:12],) + tuple(line[i:i+6] for i in range(12, 72, 6))]\n",
    "elif line[7] == '-':\n",
    "    series_id = line[:7]\n",
    "    iyr, *iy = [int(x) for x in (line[7:12],) + tuple(line[i:i+6] for i in range(12, 72, 6))]\n",
    "elif line[6] == '-':\n",
    "    series_id = line[:6]\n",
    "    iyr, *iy = [int(x) for x in (line[6:12],) + tuple(line[i:i+6] for i in range(12, 72, 6))]\n",
    "\n",
    "series_id, iyr, iy"
   ]
  },
  {
   "cell_type": "code",
   "execution_count": null,
   "metadata": {},
   "outputs": [],
   "source": [
    "import os\n",
    "import sys\n",
    "\n",
    "print(os.path.dirname(os.path.realpath(__file__)))"
   ]
  }
 ],
 "metadata": {
  "kernelspec": {
   "display_name": "dplpy",
   "language": "python",
   "name": "python3"
  },
  "language_info": {
   "codemirror_mode": {
    "name": "ipython",
    "version": 3
   },
   "file_extension": ".py",
   "mimetype": "text/x-python",
   "name": "python",
   "nbconvert_exporter": "python",
   "pygments_lexer": "ipython3",
   "version": "3.12.0"
  }
 },
 "nbformat": 4,
 "nbformat_minor": 2
}
